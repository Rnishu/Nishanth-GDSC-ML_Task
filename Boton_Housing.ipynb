{
 "cells": [
  {
   "cell_type": "code",
   "execution_count": 1,
   "id": "bd45502b",
   "metadata": {
    "_cell_guid": "b1076dfc-b9ad-4769-8c92-a6c4dae69d19",
    "_uuid": "8f2839f25d086af736a60e9eeb907d3b93b6e0e5",
    "execution": {
     "iopub.execute_input": "2023-09-05T20:20:08.931523Z",
     "iopub.status.busy": "2023-09-05T20:20:08.930924Z",
     "iopub.status.idle": "2023-09-05T20:20:11.003370Z",
     "shell.execute_reply": "2023-09-05T20:20:11.000937Z"
    },
    "papermill": {
     "duration": 2.087828,
     "end_time": "2023-09-05T20:20:11.007634",
     "exception": false,
     "start_time": "2023-09-05T20:20:08.919806",
     "status": "completed"
    },
    "tags": []
   },
   "outputs": [],
   "source": [
    "# This Python 3 environment comes with many helpful analytics libraries installed\n",
    "# It is defined by the kaggle/python Docker image: https://github.com/kaggle/docker-python\n",
    "\n",
    "# Import libraries \n",
    "import numpy as np\n",
    "import pandas as pd\n",
    "from sklearn.model_selection import ShuffleSplit\n",
    "from sklearn.metrics import r2_score\n",
    "\n",
    "\n",
    "# Pretty display for notebooks\n",
    "%matplotlib inline\n"
   ]
  },
  {
   "cell_type": "code",
   "execution_count": null,
   "id": "3e565c49",
   "metadata": {
    "papermill": {
     "duration": 0.00759,
     "end_time": "2023-09-05T20:20:11.026204",
     "exception": false,
     "start_time": "2023-09-05T20:20:11.018614",
     "status": "completed"
    },
    "tags": []
   },
   "outputs": [],
   "source": []
  },
  {
   "cell_type": "code",
   "execution_count": 2,
   "id": "bab8bf64",
   "metadata": {
    "execution": {
     "iopub.execute_input": "2023-09-05T20:20:11.045281Z",
     "iopub.status.busy": "2023-09-05T20:20:11.043604Z",
     "iopub.status.idle": "2023-09-05T20:20:11.108389Z",
     "shell.execute_reply": "2023-09-05T20:20:11.107269Z"
    },
    "papermill": {
     "duration": 0.077879,
     "end_time": "2023-09-05T20:20:11.111713",
     "exception": false,
     "start_time": "2023-09-05T20:20:11.033834",
     "status": "completed"
    },
    "tags": []
   },
   "outputs": [
    {
     "name": "stdout",
     "output_type": "stream",
     "text": [
      "Boston housing dataset has 489 data points with 4 variables each.\n"
     ]
    }
   ],
   "source": [
    "\n",
    "# Load the Boston housing dataset\n",
    "data = pd.read_csv('/kaggle/input/bostonhoustingmlnd/housing.csv')\n",
    "prices = data['MEDV']\n",
    "features = data.drop('MEDV', axis = 1)\n",
    "    \n",
    "# Success\n",
    "print(\"Boston housing dataset has {} data points with {} variables each.\".format(*data.shape))"
   ]
  },
  {
   "cell_type": "code",
   "execution_count": 3,
   "id": "3d9ac6cc",
   "metadata": {
    "execution": {
     "iopub.execute_input": "2023-09-05T20:20:11.129824Z",
     "iopub.status.busy": "2023-09-05T20:20:11.128995Z",
     "iopub.status.idle": "2023-09-05T20:20:11.136365Z",
     "shell.execute_reply": "2023-09-05T20:20:11.134951Z"
    },
    "papermill": {
     "duration": 0.019818,
     "end_time": "2023-09-05T20:20:11.139563",
     "exception": false,
     "start_time": "2023-09-05T20:20:11.119745",
     "status": "completed"
    },
    "tags": []
   },
   "outputs": [],
   "source": [
    "def performance_metric(y_true, y_pred):\n",
    "    \"\"\" Calculates and returns the performance score between \n",
    "        true and predicted values based on the metric chosen. \"\"\"\n",
    "    \n",
    "    # TODO: Calculate the performance score between 'y_true' and 'y_predict'\n",
    "    score = r2_score(y_true,y_pred)\n",
    "    \n",
    "    # Return the score\n",
    "    return score"
   ]
  },
  {
   "cell_type": "code",
   "execution_count": 4,
   "id": "028e7665",
   "metadata": {
    "execution": {
     "iopub.execute_input": "2023-09-05T20:20:11.158775Z",
     "iopub.status.busy": "2023-09-05T20:20:11.158306Z",
     "iopub.status.idle": "2023-09-05T20:20:11.187447Z",
     "shell.execute_reply": "2023-09-05T20:20:11.185469Z"
    },
    "papermill": {
     "duration": 0.04253,
     "end_time": "2023-09-05T20:20:11.190633",
     "exception": false,
     "start_time": "2023-09-05T20:20:11.148103",
     "status": "completed"
    },
    "tags": []
   },
   "outputs": [
    {
     "name": "stdout",
     "output_type": "stream",
     "text": [
      "               RM       LSTAT     PTRATIO          MEDV\n",
      "count  489.000000  489.000000  489.000000  4.890000e+02\n",
      "mean     6.240288   12.939632   18.516564  4.543429e+05\n",
      "std      0.643650    7.081990    2.111268  1.653403e+05\n",
      "min      3.561000    1.980000   12.600000  1.050000e+05\n",
      "25%      5.880000    7.370000   17.400000  3.507000e+05\n",
      "50%      6.185000   11.690000   19.100000  4.389000e+05\n",
      "75%      6.575000   17.120000   20.200000  5.187000e+05\n",
      "max      8.398000   37.970000   22.000000  1.024800e+06\n"
     ]
    }
   ],
   "source": [
    "print(data.describe())"
   ]
  },
  {
   "cell_type": "code",
   "execution_count": 5,
   "id": "114f7fee",
   "metadata": {
    "execution": {
     "iopub.execute_input": "2023-09-05T20:20:11.210562Z",
     "iopub.status.busy": "2023-09-05T20:20:11.209735Z",
     "iopub.status.idle": "2023-09-05T20:20:11.220724Z",
     "shell.execute_reply": "2023-09-05T20:20:11.219536Z"
    },
    "papermill": {
     "duration": 0.024792,
     "end_time": "2023-09-05T20:20:11.224174",
     "exception": false,
     "start_time": "2023-09-05T20:20:11.199382",
     "status": "completed"
    },
    "tags": []
   },
   "outputs": [
    {
     "name": "stdout",
     "output_type": "stream",
     "text": [
      "Statistics for Boston housing dataset:\n",
      "\n",
      "Minimum price: $105000.0\n",
      "Maximum price: $1024800.0\n",
      "Mean price: $454342.9447852761\n",
      "Median price $438900.0\n",
      "Standard deviation of prices: $165171.13154429474\n"
     ]
    }
   ],
   "source": [
    "minimum_price= np.min(prices)\n",
    "# TODO: Maximum price of the data\n",
    "maximum_price = np.max(prices)\n",
    "\n",
    "# TODO: Mean price of the data\n",
    "mean_price = np.mean(prices)\n",
    "\n",
    "# TODO: Median price of the data\n",
    "median_price = np.median(prices)\n",
    "\n",
    "# TODO: Standard deviation of prices of the data\n",
    "std_price = np.std(prices)\n",
    "\n",
    "# Show the calculated statistics\n",
    "print(\"Statistics for Boston housing dataset:\\n\")\n",
    "print(\"Minimum price: ${}\".format(minimum_price)) \n",
    "print(\"Maximum price: ${}\".format(maximum_price))\n",
    "print(\"Mean price: ${}\".format(mean_price))\n",
    "print(\"Median price ${}\".format(median_price))\n",
    "print(\"Standard deviation of prices: ${}\".format(std_price))"
   ]
  },
  {
   "cell_type": "code",
   "execution_count": 6,
   "id": "cc0bac8a",
   "metadata": {
    "execution": {
     "iopub.execute_input": "2023-09-05T20:20:11.243437Z",
     "iopub.status.busy": "2023-09-05T20:20:11.242958Z",
     "iopub.status.idle": "2023-09-05T20:20:11.251212Z",
     "shell.execute_reply": "2023-09-05T20:20:11.249603Z"
    },
    "papermill": {
     "duration": 0.02127,
     "end_time": "2023-09-05T20:20:11.253740",
     "exception": false,
     "start_time": "2023-09-05T20:20:11.232470",
     "status": "completed"
    },
    "tags": []
   },
   "outputs": [
    {
     "name": "stdout",
     "output_type": "stream",
     "text": [
      "Model has a coefficient of determination, R^2, of 0.923.\n"
     ]
    }
   ],
   "source": [
    "score = performance_metric([3, -0.5, 2, 7, 4.2], [2.5, 0.0, 2.1, 7.8, 5.3])\n",
    "print(\"Model has a coefficient of determination, R^2, of {:.3f}.\".format(score))"
   ]
  },
  {
   "cell_type": "code",
   "execution_count": 7,
   "id": "2b9204d8",
   "metadata": {
    "execution": {
     "iopub.execute_input": "2023-09-05T20:20:11.272633Z",
     "iopub.status.busy": "2023-09-05T20:20:11.272128Z",
     "iopub.status.idle": "2023-09-05T20:20:11.871792Z",
     "shell.execute_reply": "2023-09-05T20:20:11.869601Z"
    },
    "papermill": {
     "duration": 0.612035,
     "end_time": "2023-09-05T20:20:11.874288",
     "exception": true,
     "start_time": "2023-09-05T20:20:11.262253",
     "status": "failed"
    },
    "tags": []
   },
   "outputs": [
    {
     "ename": "NameError",
     "evalue": "name 'dataset' is not defined",
     "output_type": "error",
     "traceback": [
      "\u001b[0;31m---------------------------------------------------------------------------\u001b[0m",
      "\u001b[0;31mNameError\u001b[0m                                 Traceback (most recent call last)",
      "Cell \u001b[0;32mIn[7], line 1\u001b[0m\n\u001b[0;32m----> 1\u001b[0m \u001b[43mdataset\u001b[49m\u001b[38;5;241m.\u001b[39mhist(bins\u001b[38;5;241m=\u001b[39m\u001b[38;5;241m30\u001b[39m, figsize\u001b[38;5;241m=\u001b[39m(\u001b[38;5;241m15\u001b[39m, \u001b[38;5;241m10\u001b[39m))\n",
      "\u001b[0;31mNameError\u001b[0m: name 'dataset' is not defined"
     ]
    }
   ],
   "source": [
    "dataset.hist(bins=30, figsize=(15, 10))"
   ]
  },
  {
   "cell_type": "code",
   "execution_count": null,
   "id": "9929d83d",
   "metadata": {
    "execution": {
     "iopub.execute_input": "2023-09-05T20:03:37.033442Z",
     "iopub.status.busy": "2023-09-05T20:03:37.032743Z",
     "iopub.status.idle": "2023-09-05T20:03:37.327067Z",
     "shell.execute_reply": "2023-09-05T20:03:37.325853Z",
     "shell.execute_reply.started": "2023-09-05T20:03:37.033401Z"
    },
    "papermill": {
     "duration": null,
     "end_time": null,
     "exception": null,
     "start_time": null,
     "status": "pending"
    },
    "tags": []
   },
   "outputs": [],
   "source": [
    "plt.scatter(dataset['LSTAT'], dataset['MEDV'])\n",
    "plt.xlabel('FEAT')\n",
    "plt.ylabel('MEDV')\n",
    "plt.title('Scatter Plot')\n",
    "plt.show()"
   ]
  },
  {
   "cell_type": "code",
   "execution_count": null,
   "id": "870971c8",
   "metadata": {
    "execution": {
     "iopub.execute_input": "2023-09-05T20:08:35.695878Z",
     "iopub.status.busy": "2023-09-05T20:08:35.695326Z",
     "iopub.status.idle": "2023-09-05T20:08:35.706592Z",
     "shell.execute_reply": "2023-09-05T20:08:35.704761Z",
     "shell.execute_reply.started": "2023-09-05T20:08:35.695841Z"
    },
    "papermill": {
     "duration": null,
     "end_time": null,
     "exception": null,
     "start_time": null,
     "status": "pending"
    },
    "tags": []
   },
   "outputs": [],
   "source": [
    "X=features.to_numpy()\n",
    "y=prices.to_numpy()\n",
    "shuffle_split = ShuffleSplit(n_splits=1, test_size=0.2, random_state=42)\n",
    "\n",
    "# Split the data\n",
    "for train_index, test_index in shuffle_split.split(X):\n",
    "    X_train, X_test = X[train_index], X[test_index]\n",
    "    y_train, y_test = y[train_index], y[test_index]"
   ]
  },
  {
   "cell_type": "code",
   "execution_count": null,
   "id": "c8ee5f8f",
   "metadata": {
    "execution": {
     "iopub.execute_input": "2023-09-05T20:08:37.312784Z",
     "iopub.status.busy": "2023-09-05T20:08:37.310834Z",
     "iopub.status.idle": "2023-09-05T20:08:37.322103Z",
     "shell.execute_reply": "2023-09-05T20:08:37.320854Z",
     "shell.execute_reply.started": "2023-09-05T20:08:37.312724Z"
    },
    "papermill": {
     "duration": null,
     "end_time": null,
     "exception": null,
     "start_time": null,
     "status": "pending"
    },
    "tags": []
   },
   "outputs": [],
   "source": [
    "scaler = StandardScaler()\n",
    "X_train_scaled = scaler.fit_transform(X_train)\n",
    "X_test_scaled = scaler.transform(X_test)"
   ]
  },
  {
   "cell_type": "code",
   "execution_count": null,
   "id": "caee42bc",
   "metadata": {
    "execution": {
     "iopub.execute_input": "2023-09-05T20:08:39.566033Z",
     "iopub.status.busy": "2023-09-05T20:08:39.564480Z",
     "iopub.status.idle": "2023-09-05T20:08:39.575844Z",
     "shell.execute_reply": "2023-09-05T20:08:39.573820Z",
     "shell.execute_reply.started": "2023-09-05T20:08:39.565987Z"
    },
    "papermill": {
     "duration": null,
     "end_time": null,
     "exception": null,
     "start_time": null,
     "status": "pending"
    },
    "tags": []
   },
   "outputs": [],
   "source": [
    "# Create and train linear regression model\n",
    "model = LinearRegression()\n",
    "model.fit(X_train_scaled, y_train)\n",
    "\n",
    "# Make predictions\n",
    "y_pred = model.predict(X_test_scaled)\n",
    "\n"
   ]
  },
  {
   "cell_type": "code",
   "execution_count": null,
   "id": "b632ec8f",
   "metadata": {
    "execution": {
     "iopub.execute_input": "2023-09-05T20:08:41.908433Z",
     "iopub.status.busy": "2023-09-05T20:08:41.908008Z",
     "iopub.status.idle": "2023-09-05T20:08:41.917382Z",
     "shell.execute_reply": "2023-09-05T20:08:41.915422Z",
     "shell.execute_reply.started": "2023-09-05T20:08:41.908401Z"
    },
    "papermill": {
     "duration": null,
     "end_time": null,
     "exception": null,
     "start_time": null,
     "status": "pending"
    },
    "tags": []
   },
   "outputs": [],
   "source": [
    "# Evaluate the model\n",
    "mse = mean_squared_error(y_test, y_pred)\n",
    "print(\"Mean Squared Error:\", mse)"
   ]
  },
  {
   "cell_type": "code",
   "execution_count": null,
   "id": "6d3197be",
   "metadata": {
    "execution": {
     "iopub.execute_input": "2023-09-05T20:19:11.129340Z",
     "iopub.status.busy": "2023-09-05T20:19:11.128838Z",
     "iopub.status.idle": "2023-09-05T20:19:11.142047Z",
     "shell.execute_reply": "2023-09-05T20:19:11.140305Z",
     "shell.execute_reply.started": "2023-09-05T20:19:11.129304Z"
    },
    "papermill": {
     "duration": null,
     "end_time": null,
     "exception": null,
     "start_time": null,
     "status": "pending"
    },
    "tags": []
   },
   "outputs": [],
   "source": [
    "input = [[6.575,4.98,15.3]]\n",
    "input_scaled = scaler.transform(input)\n",
    "pred = model.predict(input_scaled)\n",
    "pred"
   ]
  },
  {
   "cell_type": "markdown",
   "id": "5d97f28f",
   "metadata": {
    "papermill": {
     "duration": null,
     "end_time": null,
     "exception": null,
     "start_time": null,
     "status": "pending"
    },
    "tags": []
   },
   "source": [
    "returned value of 633616 and expected value was 504000"
   ]
  }
 ],
 "kernelspec": {
  "display_name": "Python 3",
  "language": "python",
  "name": "python3"
 },
 "language_info": {
  "codemirror_mode": {
   "name": "ipython",
   "version": 3
  },
  "file_extension": ".py",
  "mimetype": "text/x-python",
  "name": "python",
  "nbconvert_exporter": "python",
  "pygments_lexer": "ipython3",
  "version": "3.6.4"
 },
 "metadata": {
  "kernelspec": {
   "display_name": "Python 3",
   "language": "python",
   "name": "python3"
  },
  "language_info": {
   "codemirror_mode": {
    "name": "ipython",
    "version": 3
   },
   "file_extension": ".py",
   "mimetype": "text/x-python",
   "name": "python",
   "nbconvert_exporter": "python",
   "pygments_lexer": "ipython3",
   "version": "3.10.12"
  },
  "papermill": {
   "default_parameters": {},
   "duration": 8.100615,
   "end_time": "2023-09-05T20:20:12.806355",
   "environment_variables": {},
   "exception": true,
   "input_path": "__notebook__.ipynb",
   "output_path": "__notebook__.ipynb",
   "parameters": {},
   "start_time": "2023-09-05T20:20:04.705740",
   "version": "2.4.0"
  }
 },
 "nbformat": 4,
 "nbformat_minor": 5
}
